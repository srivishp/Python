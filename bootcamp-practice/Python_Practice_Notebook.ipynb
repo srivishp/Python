# Print the largest number from a string
## Example: abc12def34
## Print: 34
arr_in = int(input())
elem =[]
for x in range(0,arr_in):
    b=int(input())
    elem.append(b)
    elem.reverse()

for x in elem: 
    print(x)

n = int(input())
print(*range(1,n+1), sep='')
string = "the King has the largest army in the entire world the King" 
  
# prints the string after removing the  from beginning and end 
print(string.strip("the King")) 
n = int(input())
marksheet = [[input(), float(input())] for _ in range(n)]

second_highest = sorted(list(set([marks for name, marks in marksheet])))[1]
print('\n'.join([a for a,b in sorted(marksheet) if b == second_highest]))


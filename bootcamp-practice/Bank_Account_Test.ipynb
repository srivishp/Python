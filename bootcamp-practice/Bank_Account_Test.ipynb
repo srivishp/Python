{
 "cells": [
  {
   "cell_type": "markdown",
   "metadata": {},
   "source": [
    "# Object Oriented Programming Challenge\n",
    "\n",
    "For this challenge, create a bank account class that has two attributes:\n",
    "\n",
    "* owner\n",
    "* balance\n",
    "\n",
    "and two methods:\n",
    "\n",
    "* deposit\n",
    "* withdraw\n",
    "\n",
    "As an added requirement, withdrawals may not exceed the available balance.\n",
    "\n",
    "Instantiate your class, make several deposits and withdrawals, and test to make sure the account can't be overdrawn."
   ]
  },
  {
   "cell_type": "code",
   "execution_count": 22,
   "metadata": {},
   "outputs": [],
   "source": [
    "class Account():\n",
    "    def __init__(self,owner,balance):\n",
    "        \n",
    "        self.owner = owner\n",
    "        self.balance = balance\n",
    "        \n",
    "        print('Owner: {}'.format(owner))\n",
    "        print('Balance: {}'.format(balance))\n",
    "    \n",
    "    def deposit(self,deposit_amount):\n",
    "        \n",
    "        self.balance = self.balance + deposit_amount\n",
    "        print ('{} rupees were deposited in your account!'.format(deposit_amount))\n",
    "        print ('Final balance is {} rupees'.format(self.balance))\n",
    "        \n",
    "    def withdraw(self,withdraw_amount):\n",
    "        \n",
    "        if withdraw_amount > 0 and withdraw_amount <= self.balance:\n",
    "            \n",
    "            self.balance = self.balance - withdraw_amount\n",
    "            print('{} rupees were withdrawn from your account!'.format(withdraw_amount))\n",
    "            print ('Final balance is {} rupees'.format(self.balance))\n",
    "        \n",
    "        elif withdraw_amount < 0:\n",
    "            print ('Invalid amount!')\n",
    "        \n",
    "        else:\n",
    "            print ('Funds unavailable!')\n",
    "            \n",
    "    def __str__(self):\n",
    "        return f'Account Owner: {self.owner} \\nAccount Balance: {self.balance}'\n",
    "    "
   ]
  },
  {
   "cell_type": "code",
   "execution_count": 23,
   "metadata": {},
   "outputs": [
    {
     "name": "stdout",
     "output_type": "stream",
     "text": [
      "Owner: Vidya\n",
      "Balance: 100\n"
     ]
    }
   ],
   "source": [
    "# 1. Instantiate the class\n",
    "myaccount = Account('Vidya',100)"
   ]
  },
  {
   "cell_type": "code",
   "execution_count": 24,
   "metadata": {},
   "outputs": [
    {
     "name": "stdout",
     "output_type": "stream",
     "text": [
      "Account Owner: Vidya \n",
      "Account Balance: 100\n"
     ]
    }
   ],
   "source": [
    "# 2. Print the object\n",
    "print(myaccount)"
   ]
  },
  {
   "cell_type": "code",
   "execution_count": 25,
   "metadata": {},
   "outputs": [
    {
     "data": {
      "text/plain": [
       "'Vidya'"
      ]
     },
     "execution_count": 25,
     "metadata": {},
     "output_type": "execute_result"
    }
   ],
   "source": [
    "# 3. Show the account owner attribute\n",
    "myaccount.owner"
   ]
  },
  {
   "cell_type": "code",
   "execution_count": 26,
   "metadata": {},
   "outputs": [
    {
     "data": {
      "text/plain": [
       "100"
      ]
     },
     "execution_count": 26,
     "metadata": {},
     "output_type": "execute_result"
    }
   ],
   "source": [
    "# 4. Show the account balance attribute\n",
    "myaccount.balance"
   ]
  },
  {
   "cell_type": "code",
   "execution_count": 27,
   "metadata": {},
   "outputs": [
    {
     "name": "stdout",
     "output_type": "stream",
     "text": [
      "800 rupees were deposited in your account!\n",
      "Final balance is 900 rupees\n"
     ]
    }
   ],
   "source": [
    "# 5. Make a series of deposits and withdrawals\n",
    "myaccount.deposit(800)"
   ]
  },
  {
   "cell_type": "code",
   "execution_count": 28,
   "metadata": {},
   "outputs": [
    {
     "name": "stdout",
     "output_type": "stream",
     "text": [
      "245 rupees were withdrawn from your account!\n",
      "Final balance is 655 rupees\n"
     ]
    }
   ],
   "source": [
    "myaccount.withdraw(245)"
   ]
  },
  {
   "cell_type": "code",
   "execution_count": 29,
   "metadata": {},
   "outputs": [
    {
     "name": "stdout",
     "output_type": "stream",
     "text": [
      "Funds unavailable!\n"
     ]
    }
   ],
   "source": [
    "# 6. Make a withdrawal that exceeds the available balance\n",
    "myaccount.withdraw(1500)"
   ]
  },
  {
   "cell_type": "markdown",
   "metadata": {},
   "source": [
    "## Good job!"
   ]
  }
 ],
 "metadata": {
  "kernelspec": {
   "display_name": "Python 3",
   "language": "python",
   "name": "python3"
  },
  "language_info": {
   "codemirror_mode": {
    "name": "ipython",
    "version": 3
   },
   "file_extension": ".py",
   "mimetype": "text/x-python",
   "name": "python",
   "nbconvert_exporter": "python",
   "pygments_lexer": "ipython3",
   "version": "3.7.6"
  }
 },
 "nbformat": 4,
 "nbformat_minor": 2
}
